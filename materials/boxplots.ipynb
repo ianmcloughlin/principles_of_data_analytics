{
 "cells": [
  {
   "cell_type": "markdown",
   "metadata": {},
   "source": [
    "# Boxplots"
   ]
  },
  {
   "cell_type": "code",
   "execution_count": 1,
   "metadata": {},
   "outputs": [],
   "source": [
    "# Plotting.\n",
    "import matplotlib.pyplot as plt\n",
    "\n",
    "# Numerical arrays.\n",
    "import numpy as np"
   ]
  },
  {
   "cell_type": "markdown",
   "metadata": {},
   "source": [
    "## Resources\n",
    "\n",
    "Boxplot  \n",
    "https://matplotlib.org/stable/api/_as_gen/matplotlib.pyplot.boxplot.html  \n",
    "\n",
    "Boxplots demo  \n",
    "https://matplotlib.org/stable/gallery/statistics/boxplot_demo.html  \n",
    "\n",
    "Explanation  \n",
    "https://www.khanacademy.org/math/statistics-probability/summarizing-quantitative-data/box-whisker-plots/a/box-plot-review\n"
   ]
  },
  {
   "cell_type": "markdown",
   "metadata": {},
   "source": [
    "## Creating Data"
   ]
  },
  {
   "cell_type": "markdown",
   "metadata": {},
   "source": [
    "Create a random number generator, with a deterministic seed.  \n",
    "https://numpy.org/doc/stable/reference/random/generator.html"
   ]
  },
  {
   "cell_type": "code",
   "execution_count": 2,
   "metadata": {},
   "outputs": [],
   "source": [
    "# Random number generator.\n",
    "rng = np.random.default_rng(12345)"
   ]
  },
  {
   "cell_type": "markdown",
   "metadata": {},
   "source": [
    "Generate some random normal data.  \n",
    "https://numpy.org/doc/stable/reference/random/generated/numpy.random.Generator.normal.html"
   ]
  },
  {
   "cell_type": "code",
   "execution_count": null,
   "metadata": {},
   "outputs": [],
   "source": [
    "# Group 1: Mean = 75, Std Dev = 10, Size = 30\n",
    "group_1 = rng.normal(75, 10, 30)\n",
    "\n",
    "# Show.\n",
    "print(group_1)"
   ]
  },
  {
   "cell_type": "code",
   "execution_count": null,
   "metadata": {},
   "outputs": [],
   "source": [
    "# Group 2: Mean = 65, Std Dev = 12, Size = 30\n",
    "group_2 = rng.normal(65, 12, 30)\n",
    "\n",
    "# Show.\n",
    "print(group_2)"
   ]
  },
  {
   "cell_type": "code",
   "execution_count": null,
   "metadata": {},
   "outputs": [],
   "source": [
    "# Group 3: Mean = 85, Std Dev = 8, Size = 30\n",
    "group_3 = rng.normal(85, 8, 30)\n",
    "\n",
    "# Show.\n",
    "print(group_3)"
   ]
  },
  {
   "cell_type": "markdown",
   "metadata": {},
   "source": [
    "## Organize Data\n",
    "\n",
    "https://numpy.org/doc/stable/reference/generated/numpy.array.html"
   ]
  },
  {
   "cell_type": "code",
   "execution_count": null,
   "metadata": {},
   "outputs": [],
   "source": [
    "# Create a numpy array.\n",
    "data = np.array([group_1, group_2, group_3])\n",
    "\n",
    "# Show.\n",
    "print(data)"
   ]
  },
  {
   "cell_type": "markdown",
   "metadata": {},
   "source": [
    "## Descriptive Statistics\n",
    "\n",
    "Mean  \n",
    "https://numpy.org/doc/stable/reference/generated/numpy.mean.html   \n",
    "\n",
    "Median  \n",
    "https://numpy.org/doc/stable/reference/generated/numpy.median.html  \n",
    "\n",
    "Standard Deviation  \n",
    "https://numpy.org/doc/stable/reference/generated/numpy.std.html  "
   ]
  },
  {
   "cell_type": "code",
   "execution_count": null,
   "metadata": {},
   "outputs": [],
   "source": [
    "# Mean.\n",
    "np.mean(group_1)"
   ]
  },
  {
   "cell_type": "code",
   "execution_count": null,
   "metadata": {},
   "outputs": [],
   "source": [
    "# Means.\n",
    "np.mean(data, axis=1)"
   ]
  },
  {
   "cell_type": "code",
   "execution_count": null,
   "metadata": {},
   "outputs": [],
   "source": [
    "# Means.\n",
    "print(f'Means: {np.mean(data, axis=1)}')\n",
    "\n",
    "# Standard Deviations.\n",
    "print(f'Standard Deviations: {np.std(data, axis=1)}')\n",
    "\n",
    "# Medians.\n",
    "print(f'Medians: {np.median(data, axis=1)}')\n",
    "\n",
    "# Maxima.\n",
    "print(f'Maxima: {np.max(data, axis=1)}')\n",
    "\n",
    "# Minima.\n",
    "print(f'Minima: {np.min(data, axis=1)}')"
   ]
  },
  {
   "cell_type": "markdown",
   "metadata": {},
   "source": [
    "Quartiles  \n",
    "https://numpy.org/doc/stable/reference/generated/numpy.quantile.html\n",
    "\n",
    "\n",
    "https://www.codecademy.com/learn/learn-statistics-with-python/modules/quartiles-quantiles-and-interquartile-range/cheatsheet  "
   ]
  },
  {
   "cell_type": "code",
   "execution_count": null,
   "metadata": {},
   "outputs": [],
   "source": [
    "# Q1.\n",
    "np.quantile(data, 0.25, axis=1)"
   ]
  },
  {
   "cell_type": "code",
   "execution_count": null,
   "metadata": {},
   "outputs": [],
   "source": [
    "# Q3.\n",
    "np.quantile(data, 0.75, axis=1)"
   ]
  },
  {
   "cell_type": "code",
   "execution_count": null,
   "metadata": {},
   "outputs": [],
   "source": [
    "# Quantiles.\n",
    "np.quantile(data, [0.25, 0.5, 0.75], axis=1)"
   ]
  },
  {
   "cell_type": "markdown",
   "metadata": {},
   "source": [
    "## Single Boxplot"
   ]
  },
  {
   "cell_type": "markdown",
   "metadata": {},
   "source": [
    "Create a new figure and set of axes.  \n",
    "https://matplotlib.org/stable/api/_as_gen/matplotlib.pyplot.subplots.html"
   ]
  },
  {
   "cell_type": "markdown",
   "metadata": {},
   "source": [
    "Add a boxplot for group_1.  \n",
    "https://matplotlib.org/stable/api/_as_gen/matplotlib.axes.Axes.boxplot.html"
   ]
  },
  {
   "cell_type": "code",
   "execution_count": null,
   "metadata": {},
   "outputs": [],
   "source": [
    "# Create figure, axis.\n",
    "fig, ax = plt.subplots()\n",
    "\n",
    "# Create boxplot.\n",
    "ax.boxplot(group_1)"
   ]
  },
  {
   "cell_type": "markdown",
   "metadata": {},
   "source": [
    "## Multiple Boxplots"
   ]
  },
  {
   "cell_type": "code",
   "execution_count": null,
   "metadata": {},
   "outputs": [],
   "source": [
    "# Create figure, axis.\n",
    "fig, ax = plt.subplots()\n",
    "\n",
    "# Create boxplot.\n",
    "ax.boxplot(data.T);"
   ]
  },
  {
   "cell_type": "markdown",
   "metadata": {},
   "source": [
    "## Titles and Axis Labels"
   ]
  },
  {
   "cell_type": "code",
   "execution_count": null,
   "metadata": {},
   "outputs": [],
   "source": [
    "# Create figure, axis.\n",
    "fig, ax = plt.subplots()\n",
    "\n",
    "# Create boxplot.\n",
    "ax.boxplot(data.T);\n",
    "\n",
    "# Title.\n",
    "# https://matplotlib.org/stable/api/_as_gen/matplotlib.axes.Axes.set_title.html\n",
    "ax.set_title(\"Side-by-Side Boxplots of Test Scores\", fontsize=16)\n",
    "\n",
    "# Axis labels.\n",
    "# https://matplotlib.org/stable/api/_as_gen/matplotlib.axes.Axes.set_xlabel.html\n",
    "ax.set_xlabel(\"Groups\", fontsize=12)\n",
    "# https://matplotlib.org/stable/api/_as_gen/matplotlib.axes.Axes.set_ylabel.html\n",
    "ax.set_ylabel(\"Scores\", fontsize=12)\n",
    "\n",
    "# Set names of x-axis ticks.\n",
    "# https://matplotlib.org/stable/api/_as_gen/matplotlib.axes.Axes.set_xticks.html\n",
    "ax.set_xticks([1, 2, 3], [\"Group 1\", \"Group 2\", \"Group 3\"], fontsize=10)\n",
    "\n",
    "# Add a grid.\n",
    "ax.grid(axis=\"y\", linestyle=\"--\", alpha=0.7)\n"
   ]
  },
  {
   "cell_type": "markdown",
   "metadata": {},
   "source": [
    "## End"
   ]
  }
 ],
 "metadata": {
  "kernelspec": {
   "display_name": "base",
   "language": "python",
   "name": "python3"
  },
  "language_info": {
   "codemirror_mode": {
    "name": "ipython",
    "version": 3
   },
   "file_extension": ".py",
   "mimetype": "text/x-python",
   "name": "python",
   "nbconvert_exporter": "python",
   "pygments_lexer": "ipython3",
   "version": "3.12.2"
  }
 },
 "nbformat": 4,
 "nbformat_minor": 2
}
