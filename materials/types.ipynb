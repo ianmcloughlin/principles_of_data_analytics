{
 "cells": [
  {
   "cell_type": "markdown",
   "metadata": {},
   "source": [
    "# Types"
   ]
  },
  {
   "cell_type": "code",
   "execution_count": null,
   "metadata": {},
   "outputs": [],
   "source": [
    "# Data structures.\n",
    "import struct"
   ]
  },
  {
   "cell_type": "markdown",
   "metadata": {},
   "source": [
    "## Stevens Scales of Measurement "
   ]
  },
  {
   "cell_type": "markdown",
   "metadata": {},
   "source": [
    "Stevens, S. S. *On the Theory of Scales of Measurement.*  \n",
    "Science 103, no. 2684 (1946): 677–80.  \n",
    "http://www.jstor.org/stable/1671815.  \n",
    "\n",
    "\n",
    "Four scales of measurement in 1946.  \n",
    "Classify data based on their mathematical properties.  \n",
    "\n",
    "1. **Nominal**: Categorizes data without any order (e.g., gender, blood type).  \n",
    "\n",
    "2. **Ordinal** – Ranks data but without consistent intervals (e.g., survey ratings, race positions).\n",
    "\n",
    "3. **Interval** – Measures ordered data with equal intervals but no true zero (e.g., temperature in Celsius, IQ scores).\n",
    "\n",
    "4. **Ratio** – Has ordered data, equal intervals, and a true zero (e.g., weight, height, age, income)."
   ]
  },
  {
   "cell_type": "markdown",
   "metadata": {},
   "source": [
    "## Types in Python"
   ]
  },
  {
   "cell_type": "markdown",
   "metadata": {},
   "source": [
    "https://docs.python.org/3/library/stdtypes.html\n",
    "\n",
    "1. Numeric \n",
    "   - `int` (e.g., `42`)  \n",
    "   - `float` (e.g., `3.14`)  \n",
    "   - `complex` (e.g., `2 + 3j`)  \n",
    "\n",
    "2. Boolean/Binary  \n",
    "   - `bool` (e.g., `True`, `False`)  \n",
    "   - `bytes` (e.g., `b'hello'`)  \n",
    "   - `bytearray` (mutable version of `bytes`)  \n",
    "   - `memoryview` (view over binary data)  \n",
    "\n",
    "3. Sequence  \n",
    "   - `str` (e.g., `\"hello\"`)  \n",
    "   - `list` (e.g., `[1, 2, 3]`)  \n",
    "   - `tuple` (e.g., `(1, 2, 3)`)  \n",
    "\n",
    "4. Other \n",
    "   - `set` (e.g., `{1, 2, 3}`)  \n",
    "   - `frozenset` (immutable version of `set`)  \n",
    "   - `dict` (e.g., `{\"key\": \"value\"}`)  \n"
   ]
  },
  {
   "cell_type": "markdown",
   "metadata": {},
   "source": [
    "## Binary Integers"
   ]
  },
  {
   "cell_type": "markdown",
   "metadata": {},
   "source": [
    "You can see the **binary representation** of an integer in Python using the `bin()` function.  "
   ]
  },
  {
   "cell_type": "code",
   "execution_count": null,
   "metadata": {},
   "outputs": [],
   "source": [
    "# Example integer - literal written in decimal.\n",
    "num = 42\n",
    "\n",
    "# Show.\n",
    "num"
   ]
  },
  {
   "cell_type": "code",
   "execution_count": null,
   "metadata": {},
   "outputs": [],
   "source": [
    "# In binary.\n",
    "bin(num)"
   ]
  },
  {
   "cell_type": "code",
   "execution_count": null,
   "metadata": {},
   "outputs": [],
   "source": [
    "# Remove 0b.\n",
    "print(bin(num)[2:])"
   ]
  },
  {
   "cell_type": "code",
   "execution_count": null,
   "metadata": {},
   "outputs": [],
   "source": [
    "# Use f-strings.\n",
    "# https://realpython.com/python-f-strings/\n",
    "print(f\"{num:b}\")"
   ]
  },
  {
   "cell_type": "code",
   "execution_count": null,
   "metadata": {},
   "outputs": [],
   "source": [
    "# Literal in binary.\n",
    "print(0b101010)"
   ]
  },
  {
   "cell_type": "code",
   "execution_count": null,
   "metadata": {},
   "outputs": [],
   "source": [
    "# Negative numbers.\n",
    "print(f'{-42:b}')"
   ]
  },
  {
   "cell_type": "markdown",
   "metadata": {},
   "source": [
    "## Binary Strings"
   ]
  },
  {
   "cell_type": "markdown",
   "metadata": {},
   "source": [
    "You can see the **binary representation** of a character in Python by converting it to its Unicode (ASCII) value using `ord()`, then using `bin()`.  "
   ]
  },
  {
   "cell_type": "code",
   "execution_count": null,
   "metadata": {},
   "outputs": [],
   "source": [
    "# Character A.\n",
    "char = 'A'"
   ]
  },
  {
   "cell_type": "code",
   "execution_count": null,
   "metadata": {},
   "outputs": [],
   "source": [
    "# Ordinal value.\n",
    "ord(char)"
   ]
  },
  {
   "cell_type": "code",
   "execution_count": null,
   "metadata": {},
   "outputs": [],
   "source": [
    "# Binary.\n",
    "bin(ord(char))"
   ]
  },
  {
   "cell_type": "markdown",
   "metadata": {},
   "source": [
    "## Binary Floats"
   ]
  },
  {
   "cell_type": "markdown",
   "metadata": {},
   "source": [
    "https://docs.python.org/3/library/struct.html  \n",
    "\n",
    "Python does not have a built-in function like `bin()` for floats.  \n",
    "You can use the `struct` module to see the **IEEE 754 binary representation** of a float.  \n",
    "This is quite advanced.  "
   ]
  },
  {
   "cell_type": "code",
   "execution_count": null,
   "metadata": {},
   "outputs": [],
   "source": [
    "# Float\n",
    "num = 3.14\n",
    "\n",
    "# Show.\n",
    "num"
   ]
  },
  {
   "cell_type": "code",
   "execution_count": null,
   "metadata": {},
   "outputs": [],
   "source": [
    "# 32-bit representation.\n",
    "binary_representation = ''.join(f\"{b:08b}\" for b in struct.pack('!f', num))\n",
    "print(binary_representation)"
   ]
  },
  {
   "cell_type": "code",
   "execution_count": null,
   "metadata": {},
   "outputs": [],
   "source": [
    "# 64-bit representation.\n",
    "binary_representation_64 = ''.join(f\"{b:08b}\" for b in struct.pack('!d', num))\n",
    "print(binary_representation_64)"
   ]
  },
  {
   "cell_type": "markdown",
   "metadata": {},
   "source": [
    "`struct.pack('!f', num)`  \n",
    "Converts the float into 4 bytes (32-bit IEEE 754)  \n",
    "\n",
    "\n",
    "`struct.pack('!d', num)`  \n",
    "Converts the float into 8 bytes (64-bit IEEE 754)  \n",
    "\n",
    "\n",
    "Each byte is converted to **8-bit binary** using `f\"{b:08b}\"`  "
   ]
  },
  {
   "cell_type": "markdown",
   "metadata": {},
   "source": [
    "## Why Types?"
   ]
  },
  {
   "cell_type": "markdown",
   "metadata": {},
   "source": [
    "1. **Memory Efficiency**  \n",
    "   Types define how much memory a value occupies (e.g., `int` vs. `float`).  \n",
    "   \n",
    "2. **Prevent Errors**  \n",
    "   Type checking catches mistakes early (e.g., adding a string to an integer).  \n",
    "\n",
    "3. **Improve Performance**  \n",
    "   Compilers and interpreters optimize code based on known types.  \n",
    "\n",
    "4. **Provide Meaningful Operations**  \n",
    "   Types define what operations are valid (e.g., division for `float`, concatenation for `str`).  \n",
    "\n",
    "5. **Enhance Code Readability & Maintainability**  \n",
    "   Explicit types make code easier to understand and debug.  \n",
    "\n",
    "6. **Enable Better Tooling**  \n",
    "   IDEs, linters, and static analyzers use types for better suggestions and error detection.  "
   ]
  },
  {
   "cell_type": "markdown",
   "metadata": {},
   "source": [
    "## Operators"
   ]
  },
  {
   "cell_type": "markdown",
   "metadata": {},
   "source": [
    "The `+` operator in Python does something different for different types."
   ]
  },
  {
   "cell_type": "code",
   "execution_count": null,
   "metadata": {},
   "outputs": [],
   "source": [
    "# Integer.\n",
    "3 + 5"
   ]
  },
  {
   "cell_type": "code",
   "execution_count": null,
   "metadata": {},
   "outputs": [],
   "source": [
    "# Float.\n",
    "3.0 + 5.0"
   ]
  },
  {
   "cell_type": "code",
   "execution_count": null,
   "metadata": {},
   "outputs": [],
   "source": [
    "# String.\n",
    "'3' + '5'"
   ]
  },
  {
   "cell_type": "code",
   "execution_count": null,
   "metadata": {},
   "outputs": [],
   "source": [
    "# List.\n",
    "[3] + [5]"
   ]
  },
  {
   "cell_type": "markdown",
   "metadata": {},
   "source": [
    "## Machine Words"
   ]
  },
  {
   "cell_type": "markdown",
   "metadata": {},
   "source": [
    "- Fixed size based on CPU architecture (e.g., 32-bit, 64-bit).\n",
    "- Can store integers, addresses, or raw data.\n",
    "- Used in low-level operations like memory addressing."
   ]
  },
  {
   "cell_type": "markdown",
   "metadata": {},
   "source": [
    "## End"
   ]
  }
 ],
 "metadata": {
  "kernelspec": {
   "display_name": "Python 3",
   "language": "python",
   "name": "python3"
  },
  "language_info": {
   "codemirror_mode": {
    "name": "ipython",
    "version": 3
   },
   "file_extension": ".py",
   "mimetype": "text/x-python",
   "name": "python",
   "nbconvert_exporter": "python",
   "pygments_lexer": "ipython3",
   "version": "3.12.1"
  }
 },
 "nbformat": 4,
 "nbformat_minor": 2
}
